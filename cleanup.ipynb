{
 "cells": [
  {
   "cell_type": "code",
   "execution_count": null,
   "metadata": {},
   "outputs": [],
   "source": [
    "\n",
    "import boto3\n",
    "\n",
    "# getting boto3 clients for required AWS services\n",
    "sts_client = boto3.client('sts')\n",
    "iam_client = boto3.client('iam')\n",
    "s3_client = boto3.client('s3')\n",
    "lambda_client = boto3.client('lambda')\n",
    "bedrock_agent_client = boto3.client('bedrock-agent')\n",
    "\n",
    "s3 = boto3.client('s3')\n",
    "glue = boto3.client('glue')\n",
    "athena = boto3.client('athena')\n",
    "sts = boto3.client('sts')\n",
    "iam_client = boto3.client('iam')\n",
    "\n",
    "session = boto3.session.Session()\n",
    "region = session.region_name\n",
    "account_id = sts_client.get_caller_identity()[\"Account\"]\n",
    "region, account_id\n"
   ]
  },
  {
   "cell_type": "code",
   "execution_count": 100,
   "metadata": {},
   "outputs": [],
   "source": [
    "agent_name = \"aws-operations-agent\"\n",
    "agent_alias_name = \"workshop-alias\"\n",
    "schema_name = 'text_to_sql_openapi_schema.json'\n",
    "\n",
    "suffix = f\"{region}-{account_id}\"\n",
    "idleSessionTTLInSeconds=3600\n",
    "\n",
    "bedrock_agent_bedrock_allow_policy_name = f\"{agent_name}-allow-{suffix}\"\n",
    "bedrock_agent_s3_allow_policy_name = f\"{agent_name}-s3-allow-{suffix}\"\n",
    "lambda_role_name = f'{agent_name}-lambda-role-{suffix}'\n",
    "agent_role_name = f'AmazonBedrockExecutionRoleForAgents_{agent_name}'\n",
    "lambda_code_path = \"lambda_function.py\"\n",
    "lambda_name = f'{agent_name}-{suffix}'"
   ]
  },
  {
   "cell_type": "code",
   "execution_count": null,
   "metadata": {},
   "outputs": [],
   "source": [
    "import json\n",
    "# Reading the JSON file back (to verify)\n",
    "with open('agent_info.json', 'r') as json_file:\n",
    "    loaded_data = json.load(json_file)\n",
    "\n",
    "print(\"Data read from file:\", loaded_data)\n",
    "\n",
    "agent_id=loaded_data.get('agentId')\n",
    "action_group_id=loaded_data.get('actionGroupId')\n",
    "agentAliasId=loaded_data.get('agentAliasId')\n",
    "action_group_name=loaded_data.get('actionGroupName')"
   ]
  },
  {
   "cell_type": "code",
   "execution_count": 102,
   "metadata": {},
   "outputs": [],
   "source": [
    "bucket_name=\"<your bucket name>\"\n",
    "bucket_key=\"bedrock/text_to_sql_openapi_schema.json\""
   ]
  },
  {
   "cell_type": "code",
   "execution_count": null,
   "metadata": {},
   "outputs": [],
   "source": [
    "try:\n",
    "    resp=lambda_client.get_function(FunctionName=lambda_name)\n",
    "    print(resp['Configuration']['FunctionArn'])\n",
    "    FunctionArn=resp['Configuration']['FunctionArn']\n",
    "\n",
    "    response = bedrock_agent_client.update_agent_action_group(\n",
    "       agentId=agent_id,\n",
    "       agentVersion='DRAFT',\n",
    "       actionGroupId= action_group_id,\n",
    "       actionGroupName=action_group_name,\n",
    "       actionGroupExecutor={\n",
    "           'lambda': FunctionArn\n",
    "       },\n",
    "       apiSchema={\n",
    "           's3': {\n",
    "               's3BucketName': bucket_name,\n",
    "               's3ObjectKey': bucket_key\n",
    "           }\n",
    "       },\n",
    "       actionGroupState='DISABLED',\n",
    "    )\n",
    "except Exception as e:\n",
    "    print('can not delete',str(e) )\n"
   ]
  },
  {
   "cell_type": "code",
   "execution_count": null,
   "metadata": {},
   "outputs": [],
   "source": [
    "try: \n",
    "    action_group_deletion = bedrock_agent_client.delete_agent_action_group(\n",
    "       agentId=agent_id,\n",
    "       agentVersion='DRAFT',\n",
    "       actionGroupId= action_group_id\n",
    "    )\n",
    "except Exception as e:\n",
    "    print('can not delete',str(e) )\n",
    "\n",
    "try:\n",
    "    agent_alias_deletion = bedrock_agent_client.delete_agent_alias(\n",
    "    agentId=agent_id,\n",
    "    agentAliasId=agentAliasId\n",
    "    )\n",
    "except Exception as e:\n",
    "    print('can not delete',str(e) )\n",
    "\n",
    "try:\n",
    "    agent_deletion = bedrock_agent_client.delete_agent(\n",
    "    agentId=agent_id\n",
    "    )\n",
    "except Exception as e:\n",
    "    print('can not delete',str(e))"
   ]
  },
  {
   "cell_type": "code",
   "execution_count": null,
   "metadata": {},
   "outputs": [],
   "source": [
    "\n",
    "try:\n",
    "    # Delete Lambda function\n",
    "    lambda_client.delete_function(\n",
    "        FunctionName=lambda_name\n",
    "    )\n",
    "except Exception as e:\n",
    "    print('can not delete',str(e))\n",
    "\n"
   ]
  },
  {
   "cell_type": "code",
   "execution_count": 95,
   "metadata": {},
   "outputs": [],
   "source": [
    "import boto3\n",
    "from botocore.exceptions import ClientError\n",
    "\n",
    "def delete_iam_role(role_name):\n",
    "    \"\"\"\n",
    "    Deletes an IAM role.\n",
    "\n",
    "    :param role_name: The name of the role to delete.\n",
    "    \"\"\"\n",
    "    iam = boto3.client('iam')\n",
    "\n",
    "    try:\n",
    "        # First, detach all policies from the role\n",
    "        attached_policies = iam.list_attached_role_policies(RoleName=role_name)\n",
    "        for policy in attached_policies['AttachedPolicies']:\n",
    "            iam.detach_role_policy(RoleName=role_name, PolicyArn=policy['PolicyArn'])\n",
    "            print(f\"Detached policy {policy['PolicyArn']} from role {role_name}\")\n",
    "\n",
    "        # Delete inline policies\n",
    "        inline_policies = iam.list_role_policies(RoleName=role_name)\n",
    "        for policy_name in inline_policies['PolicyNames']:\n",
    "            iam.delete_role_policy(RoleName=role_name, PolicyName=policy_name)\n",
    "            print(f\"Deleted inline policy {policy_name} from role {role_name}\")\n",
    "        # Finally, delete the role\n",
    "        iam.delete_role(RoleName=role_name)\n",
    "        print(f\"Successfully deleted role {role_name}\")\n",
    "\n",
    "    except ClientError as e:\n",
    "        print(f\"Error deleting role {role_name}: {e}\")\n",
    "        raise\n",
    "\n",
    "\n"
   ]
  },
  {
   "cell_type": "code",
   "execution_count": null,
   "metadata": {},
   "outputs": [],
   "source": [
    "\n",
    "# Usage\n",
    "try:\n",
    "    delete_iam_role(lambda_role_name)\n",
    "except Exception as e:\n",
    "    print(f\"An error occurred: {str(e)}\")\n"
   ]
  },
  {
   "cell_type": "code",
   "execution_count": null,
   "metadata": {},
   "outputs": [],
   "source": [
    "# Usage\n",
    "try:\n",
    "    delete_iam_role(agent_role_name)\n",
    "except Exception as e:\n",
    "    print(f\"An error occurred: {str(e)}\")"
   ]
  },
  {
   "cell_type": "code",
   "execution_count": 109,
   "metadata": {},
   "outputs": [],
   "source": [
    "\n",
    "\n",
    "def delete_policy_by_name(policy_name):\n",
    "    # List all policies\n",
    "    paginator = iam_client.get_paginator('list_policies')\n",
    "    for response in paginator.paginate(Scope='Local'):\n",
    "        for policy in response['Policies']:\n",
    "            if policy['PolicyName'] == policy_name:\n",
    "                policy_arn = policy['Arn']\n",
    "                # Delete the policy by ARN\n",
    "                try:\n",
    "                    iam_client.delete_policy(PolicyArn=policy_arn)\n",
    "                    print(f\"Policy '{policy_name}' deleted successfully.\")\n",
    "                    return\n",
    "                except Exception as e:\n",
    "                    print(f\"Error deleting policy '{policy_name}':\", e)\n",
    "                    return\n",
    "    print(f\"Policy '{policy_name}' not found.\")\n"
   ]
  },
  {
   "cell_type": "code",
   "execution_count": null,
   "metadata": {},
   "outputs": [],
   "source": [
    "try:\n",
    "    # Example usage\n",
    "    delete_policy_by_name(bedrock_agent_bedrock_allow_policy_name)\n",
    "    delete_policy_by_name(bedrock_agent_s3_allow_policy_name)\n",
    "except Exception as e:\n",
    "    print(f\"An error occurred: {str(e)}\")"
   ]
  },
  {
   "cell_type": "code",
   "execution_count": null,
   "metadata": {},
   "outputs": [],
   "source": []
  }
 ],
 "metadata": {
  "kernelspec": {
   "display_name": "Python 3",
   "language": "python",
   "name": "python3"
  },
  "language_info": {
   "codemirror_mode": {
    "name": "ipython",
    "version": 3
   },
   "file_extension": ".py",
   "mimetype": "text/x-python",
   "name": "python",
   "nbconvert_exporter": "python",
   "pygments_lexer": "ipython3",
   "version": "3.8.10"
  }
 },
 "nbformat": 4,
 "nbformat_minor": 2
}
